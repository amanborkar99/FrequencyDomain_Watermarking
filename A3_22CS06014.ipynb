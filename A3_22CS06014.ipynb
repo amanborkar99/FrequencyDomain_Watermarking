{
  "cells": [
    {
      "cell_type": "markdown",
      "metadata": {
        "id": "SkCuZeTGJcTG"
      },
      "source": [
        "Imports"
      ]
    },
    {
      "cell_type": "code",
      "execution_count": null,
      "metadata": {
        "id": "0QdU8KFKCxwY"
      },
      "outputs": [],
      "source": [
        "import numpy as np\n",
        "import pywt\n",
        "import os\n",
        "import cv2\n",
        "#from google.colab.patches import cv2_imshow\n",
        "from PIL import Image\n",
        "from scipy.fftpack import dct\n",
        "from scipy.fftpack import idct\n",
        "from math import log10, sqrt"
      ]
    },
    {
      "cell_type": "markdown",
      "metadata": {
        "id": "TXVPrsRIG8Um"
      },
      "source": [
        "### Edit to change input images name"
      ]
    },
    {
      "cell_type": "code",
      "execution_count": null,
      "metadata": {
        "id": "tGzw4DoLyfOs"
      },
      "outputs": [],
      "source": [
        "image = 'lena.png'\n",
        "watermark = 'logo.png'\n",
        "recoveredLogoName = 'recovered_watermark.png'"
      ]
    },
    {
      "cell_type": "markdown",
      "metadata": {
        "id": "RpB-3jGTHCnP"
      },
      "source": [
        "## Convert Image to specific channel and size"
      ]
    },
    {
      "cell_type": "code",
      "execution_count": null,
      "metadata": {
        "id": "XCj1ldcVylF3"
      },
      "outputs": [],
      "source": [
        "def convert_image(image_name, size):\n",
        "  img = Image.open(image_name).resize((size, size), 1)\n",
        "  img = img.convert('L')\n",
        "  img.save(image_name)\n",
        "  image_array = np.array(img.getdata(), dtype=np.float).reshape((size, size))\n",
        "  return image_array"
      ]
    },
    {
      "cell_type": "markdown",
      "metadata": {
        "id": "oDHUyhNKHQQ1"
      },
      "source": [
        "## Embed Watermark in given image"
      ]
    },
    {
      "cell_type": "code",
      "execution_count": null,
      "metadata": {
        "id": "y2rHlOtl5ZdC"
      },
      "outputs": [],
      "source": [
        " def embed_watermark(watermark_array, orig_image):\n",
        "  watermark_array_size = watermark_array[0].__len__()\n",
        "  watermark_flat = watermark_array.ravel()\n",
        "  ind = 0\n",
        "  for x in range (0, orig_image.__len__(), 8):\n",
        "    for y in range (0, orig_image.__len__(), 8):\n",
        "      if ind < watermark_flat.__len__():\n",
        "        subdct = orig_image[x:x+8, y:y+8]\n",
        "        subdct[5][5] = watermark_flat[ind]\n",
        "        orig_image[x:x+8, y:y+8] = subdct\n",
        "        ind += 1\n",
        "\n",
        "  return orig_image"
      ]
    },
    {
      "cell_type": "code",
      "execution_count": null,
      "metadata": {
        "id": "ShdpdWl050fl"
      },
      "outputs": [],
      "source": [
        " def apply_dct(image_array):\n",
        "   size = image_array[0].__len__()\n",
        "   all_subdct = np.empty((size, size))\n",
        "   for i in range (0, size, 8):\n",
        "     for j in range (0, size, 8):\n",
        "       subpixels = image_array[i:i+8, j:j+8]\n",
        "       subdct = dct(dct(subpixels.T, norm=\"ortho\").T, norm=\"ortho\")\n",
        "       all_subdct[i:i+8, j:j+8] = subdct\n",
        "   return all_subdct"
      ]
    },
    {
      "cell_type": "markdown",
      "metadata": {
        "id": "tia9p63RHYnV"
      },
      "source": [
        "## Inverse DCT"
      ]
    },
    {
      "cell_type": "code",
      "execution_count": null,
      "metadata": {
        "id": "lC_fAjGO6PZS"
      },
      "outputs": [],
      "source": [
        " def inverse_dct(all_subdct):\n",
        "  size = all_subdct[0].__len__()\n",
        "  all_subidct = np.empty((size, size))\n",
        "  for i in range (0, size, 8):\n",
        "     for j in range (0, size, 8):\n",
        "        subidct = idct(idct(all_subdct[i:i+8, j:j+8].T, norm=\"ortho\").T, norm=\"ortho\")\n",
        "        all_subidct[i:i+8, j:j+8] = subidct\n",
        "  return all_subidct"
      ]
    },
    {
      "cell_type": "markdown",
      "metadata": {
        "id": "E5hgBJ1hHc7N"
      },
      "source": [
        "## Get Watermark"
      ]
    },
    {
      "cell_type": "code",
      "execution_count": null,
      "metadata": {
        "id": "EkLoIYMIOD5W"
      },
      "outputs": [],
      "source": [
        " def get_watermark(dct_watermarked_coeff, watermark_size):\n",
        "   subwatermarks = []\n",
        "   for x in range (0, dct_watermarked_coeff.__len__(), 8):\n",
        "     for y in range (0, dct_watermarked_coeff.__len__(), 8):\n",
        "       coeff_slice = dct_watermarked_coeff[x:x+8, y:y+8]\n",
        "       subwatermarks.append(coeff_slice[5][5])\n",
        "   watermark = np.array(subwatermarks).reshape(watermark_size, watermark_size)\n",
        "   return watermark"
      ]
    },
    {
      "cell_type": "markdown",
      "metadata": {
        "id": "f7ElwAk-HhO-"
      },
      "source": [
        "## Recover Watermark"
      ]
    },
    {
      "cell_type": "code",
      "execution_count": null,
      "metadata": {
        "id": "Tyk4670wOnVa"
      },
      "outputs": [],
      "source": [
        "def recover_watermark(image_array):\n",
        "  dct_watermarked_coeff = apply_dct(image_array)\n",
        "  watermark_array = get_watermark(dct_watermarked_coeff, 128)\n",
        "  watermark_array =  np.uint8(watermark_array)\n",
        "\n",
        "  img = Image.fromarray(watermark_array)\n",
        "  img.save(recoveredLogoName)"
      ]
    },
    {
      "cell_type": "markdown",
      "metadata": {
        "id": "5AkXt4pmHlOF"
      },
      "source": [
        "## Save Image from Array"
      ]
    },
    {
      "cell_type": "code",
      "execution_count": null,
      "metadata": {
        "id": "lAzWw3yVPWRn"
      },
      "outputs": [],
      "source": [
        " def print_image_from_array(image_array, name):\n",
        "  image_array_copy = image_array.clip(0, 255)\n",
        "  image_array_copy = image_array_copy.astype(\"uint8\")\n",
        "  img = Image.fromarray(image_array_copy)\n",
        "  img.save(name)"
      ]
    },
    {
      "cell_type": "markdown",
      "metadata": {
        "id": "4EHGy6jPHpGN"
      },
      "source": [
        "## Calculate PSNR"
      ]
    },
    {
      "cell_type": "code",
      "execution_count": null,
      "metadata": {
        "id": "Q3DGUw32r2MO"
      },
      "outputs": [],
      "source": [
        "def PSNR(original, compressed):\n",
        "    mse = np.mean((original - compressed) ** 2)\n",
        "    if(mse == 0):\n",
        "        return 100\n",
        "    max_pixel = 255.0\n",
        "    psnr = 20 * log10(max_pixel / sqrt(mse))\n",
        "    return psnr"
      ]
    },
    {
      "cell_type": "markdown",
      "metadata": {
        "id": "Hx1ye0-GHzTV"
      },
      "source": [
        "# Watermarking Image"
      ]
    },
    {
      "cell_type": "code",
      "execution_count": null,
      "metadata": {
        "id": "4CqNxD10Y-gN"
      },
      "outputs": [],
      "source": [
        "def main(img):\n",
        "\n",
        "   image_array = convert_image(image, 1024)\n",
        "   watermark_array = convert_image(watermark, 128)\n",
        "\n",
        "   dct_array = apply_dct(image_array)\n",
        "   dct_array = embed_watermark(watermark_array, dct_array)\n",
        "   coeffs_image = inverse_dct(dct_array)\n",
        "\n",
        "   print_image_from_array(coeffs_image, 'image_with_watermark.png')\n",
        "   recover_watermark(image_array =coeffs_image )"
      ]
    },
    {
      "cell_type": "code",
      "execution_count": null,
      "metadata": {
        "id": "jZn17WIou-RG"
      },
      "outputs": [],
      "source": [
        "main(image)"
      ]
    },
    {
      "cell_type": "code",
      "execution_count": null,
      "metadata": {
        "colab": {
          "base_uri": "https://localhost:8080/"
        },
        "id": "4N4ajaCbsNLI",
        "outputId": "ead22dcd-bb36-48a4-a677-2ae8af05332b"
      },
      "outputs": [
        {
          "name": "stdout",
          "output_type": "stream",
          "text": [
            "29.65897280204933\n"
          ]
        }
      ],
      "source": [
        "original = cv2.imread(image)\n",
        "compressed = cv2.imread(\"image_with_watermark.png\")\n",
        "a = PSNR(original, compressed)\n",
        "print(a)"
      ]
    },
    {
      "cell_type": "markdown",
      "metadata": {
        "id": "c3Wzp7PsIsCu"
      },
      "source": [
        "## Correlation Coefficient"
      ]
    },
    {
      "cell_type": "code",
      "execution_count": null,
      "metadata": {
        "id": "nSSp1I2S92C6"
      },
      "outputs": [],
      "source": [
        "def correlation_coefficient(patch1, patch2):\n",
        "    product = np.mean((patch1 - patch1.mean()) * (patch2 - patch2.mean()))\n",
        "    stds = patch1.std() * patch2.std()\n",
        "    if stds == 0:\n",
        "        return 0\n",
        "    else:\n",
        "        product /= stds\n",
        "        return product"
      ]
    },
    {
      "cell_type": "code",
      "execution_count": null,
      "metadata": {
        "colab": {
          "base_uri": "https://localhost:8080/"
        },
        "id": "MiGoG5l_70q2",
        "outputId": "39beff36-d743-49b9-c428-5817e8dd7eea"
      },
      "outputs": [
        {
          "name": "stdout",
          "output_type": "stream",
          "text": [
            "correlation_coefficient : 0.9999926683491115\n"
          ]
        }
      ],
      "source": [
        "img1 = watermark\n",
        "img2 = \"recovered_watermark_without any_any_attack.png\"\n",
        "img1 = convert_image(img1, 128)\n",
        "img2 = convert_image(img2, 128)\n",
        "a = correlation_coefficient(img1, img2)\n",
        "print(\"correlation_coefficient :\",a)"
      ]
    },
    {
      "cell_type": "markdown",
      "metadata": {
        "id": "BHM37lPCI_GX"
      },
      "source": [
        "#Attacks"
      ]
    },
    {
      "cell_type": "markdown",
      "metadata": {
        "id": "mAVqqUKAJC9O"
      },
      "source": [
        "## Rotational Attack"
      ]
    },
    {
      "cell_type": "code",
      "execution_count": null,
      "metadata": {
        "id": "KLrridFkAYsI"
      },
      "outputs": [],
      "source": [
        "def rotational_attack(img):\n",
        "  img = cv2.cvtColor(np.float32(img), cv2.COLOR_BGR2GRAY)\n",
        "  center = (1024, 1024) # Get the image center\n",
        "  rotation_matrix = cv2.getRotationMatrix2D(center, -45, 1) # Calculate the rotation matrix\n",
        "  new_img = cv2.warpAffine(img, rotation_matrix, (1024, 1024)) # Transform input image\n",
        "  cv2.imwrite('attack.png', new_img)"
      ]
    },
    {
      "cell_type": "code",
      "execution_count": null,
      "metadata": {
        "id": "_Lf1oDGYEQvq"
      },
      "outputs": [],
      "source": [
        "img = cv2.imread(\"image_with_watermark.png\")\n",
        "rotational_attack(img)\n",
        "img = convert_image(\"attack.png\", 1024)\n",
        "recover_watermark(image_array = img)"
      ]
    },
    {
      "cell_type": "code",
      "execution_count": null,
      "metadata": {
        "colab": {
          "base_uri": "https://localhost:8080/"
        },
        "id": "DplT2N9_Gd0n",
        "outputId": "33ea799d-9548-4277-f4ba-bed9774ddc44"
      },
      "outputs": [
        {
          "name": "stdout",
          "output_type": "stream",
          "text": [
            "correlation_coefficient : -0.049481430652508686\n"
          ]
        }
      ],
      "source": [
        "img1 = watermark\n",
        "img2 = \"recovered_watermark_rotational_attack.png\"\n",
        "img1 = convert_image(img1, 128)\n",
        "img2 = convert_image(img2, 128)\n",
        "a = correlation_coefficient(img1, img2)\n",
        "print(\"correlation_coefficient :\",a)"
      ]
    },
    {
      "cell_type": "markdown",
      "metadata": {
        "id": "fwge42-fJMom"
      },
      "source": [
        "## Average Filter"
      ]
    },
    {
      "cell_type": "code",
      "execution_count": null,
      "metadata": {
        "id": "prOUOjCnxhhi"
      },
      "outputs": [],
      "source": [
        "def averageFilter(img):\n",
        "\n",
        "  m = img.shape[0]\n",
        "  n = img.shape[1]\n",
        "  filter = np.ones([3,3], dtype=int)\n",
        "  filter = filter/9\n",
        "\n",
        "  avgImg = np.zeros([m,n])\n",
        "  for i in range(1, m-1):\n",
        "    for j in range(1, n-1):\n",
        "        temp = (img[i-1, j-1]*filter[0, 0])+(img[i-1, j]*filter[0, 1])+(img[i-1, j + 1]*filter[0, 2])+(img[i, j-1]*filter[1, 0])+ (img[i, j]*filter[1, 1])+(img[i, j + 1]*filter[1, 2])+(img[i + 1, j-1]*filter[2, 0])+(img[i + 1, j]*filter[2, 1])+(img[i + 1, j + 1]*filter[2, 2])\n",
        "        avgImg[i,j] = temp\n",
        "  cv2.imwrite('average.png', avgImg)\n",
        "  return avgImg"
      ]
    },
    {
      "cell_type": "code",
      "execution_count": null,
      "metadata": {
        "id": "83bLKLeO9VNI"
      },
      "outputs": [],
      "source": [
        "img = cv2.imread('image_with_watermark.png', 0)\n",
        "averageFilter(img)\n",
        "img = convert_image(\"average.png\", 1024)\n",
        "recover_watermark(image_array = img)"
      ]
    },
    {
      "cell_type": "code",
      "execution_count": null,
      "metadata": {
        "colab": {
          "base_uri": "https://localhost:8080/"
        },
        "id": "Ouq4047lDgvR",
        "outputId": "c8a49fe1-5141-4a12-e6b0-e992b7b5734e"
      },
      "outputs": [
        {
          "name": "stdout",
          "output_type": "stream",
          "text": [
            "correlation_coefficient : -0.014417694269850055\n"
          ]
        }
      ],
      "source": [
        "img1 = watermark\n",
        "img2 = \"recovered_watermark_with_average_filter.png\"\n",
        "img1 = convert_image(img1, 128)\n",
        "img2 = convert_image(img2, 128)\n",
        "a = correlation_coefficient(img1, img2)\n",
        "print(\"correlation_coefficient :\",a)"
      ]
    },
    {
      "cell_type": "markdown",
      "metadata": {
        "id": "XWYB_gVTJRGN"
      },
      "source": [
        "## Median Filter"
      ]
    },
    {
      "cell_type": "code",
      "execution_count": null,
      "metadata": {
        "id": "udCglOO8DwBz"
      },
      "outputs": [],
      "source": [
        "def medianFilter():\n",
        "  img_noisy1 = cv2.imread('image_with_watermark.png', 0)\n",
        "  m, n = img_noisy1.shape\n",
        "\n",
        "  img_new1 = np.zeros([m, n])\n",
        "\n",
        "  for i in range(1, m-1):\n",
        "      for j in range(1, n-1):\n",
        "          temp = [img_noisy1[i-1, j-1],\n",
        "                img_noisy1[i-1, j],\n",
        "                img_noisy1[i-1, j + 1],\n",
        "                img_noisy1[i, j-1],\n",
        "                img_noisy1[i, j],\n",
        "                img_noisy1[i, j + 1],\n",
        "                img_noisy1[i + 1, j-1],\n",
        "                img_noisy1[i + 1, j],\n",
        "                img_noisy1[i + 1, j + 1]]\n",
        "\n",
        "          temp = sorted(temp)\n",
        "          img_new1[i, j]= temp[4]\n",
        "\n",
        "  img_new1 = img_new1.astype(np.uint8)\n",
        "  cv2.imwrite('median.png', img_new1)"
      ]
    },
    {
      "cell_type": "code",
      "execution_count": null,
      "metadata": {
        "id": "usjEWqXREVQK"
      },
      "outputs": [],
      "source": [
        "medianFilter()\n",
        "img = convert_image(\"median.png\", 1024)\n",
        "recover_watermark(image_array = img)"
      ]
    },
    {
      "cell_type": "code",
      "execution_count": null,
      "metadata": {
        "colab": {
          "base_uri": "https://localhost:8080/"
        },
        "id": "A03KsX5kE8jp",
        "outputId": "a24537fb-36db-4098-8e3b-c6751cc039ed"
      },
      "outputs": [
        {
          "name": "stdout",
          "output_type": "stream",
          "text": [
            "correlation_coefficient : -0.1365381681723543\n"
          ]
        }
      ],
      "source": [
        "img1 = watermark\n",
        "img2 = \"recovered_watermark_with_median_filter.png\"\n",
        "img1 = convert_image(img1, 128)\n",
        "img2 = convert_image(img2, 128)\n",
        "a = correlation_coefficient(img1, img2)\n",
        "print(\"correlation_coefficient :\",a)"
      ]
    },
    {
      "cell_type": "markdown",
      "metadata": {
        "id": "lU1HuQSaJVg1"
      },
      "source": [
        "## Cropping Attack"
      ]
    },
    {
      "cell_type": "code",
      "execution_count": null,
      "metadata": {
        "id": "zQOFx4WcNQW9"
      },
      "outputs": [],
      "source": [
        "def croppingAttack():\n",
        "  im = Image.open('image_with_watermark.png')\n",
        "  print(img.shape[0])\n",
        "  print(img.shape[1])\n",
        "  im = im.crop( (1, 0, 1022, 1023) )\n",
        "  im.save('cropped.png')\n"
      ]
    },
    {
      "cell_type": "code",
      "execution_count": null,
      "metadata": {
        "colab": {
          "base_uri": "https://localhost:8080/"
        },
        "id": "L7Mj8STkOoot",
        "outputId": "17c8d1cb-9d64-45c7-c2b1-24ae1789ac29"
      },
      "outputs": [
        {
          "name": "stdout",
          "output_type": "stream",
          "text": [
            "1024\n",
            "1024\n"
          ]
        }
      ],
      "source": [
        "croppingAttack()\n",
        "img = convert_image(\"cropped.png\", 1024)\n",
        "recover_watermark(image_array = img)"
      ]
    },
    {
      "cell_type": "code",
      "execution_count": null,
      "metadata": {
        "colab": {
          "base_uri": "https://localhost:8080/"
        },
        "id": "_w5KAKHtPMyG",
        "outputId": "a45a84c8-9c73-4fe3-bb03-a25a0d757af5"
      },
      "outputs": [
        {
          "name": "stdout",
          "output_type": "stream",
          "text": [
            "correlation_coefficient : 0.2195154736808018\n"
          ]
        }
      ],
      "source": [
        "img1 = watermark\n",
        "img2 = \"recovered_watermark_with_cropping_attack.png\"\n",
        "img1 = convert_image(img1, 128)\n",
        "img2 = convert_image(img2, 128)\n",
        "a = correlation_coefficient(img1, img2)\n",
        "print(\"correlation_coefficient :\",a)"
      ]
    },
    {
      "cell_type": "code",
      "execution_count": null,
      "metadata": {
        "id": "JokrfU_y6Pl-"
      },
      "outputs": [],
      "source": []
    }
  ],
  "metadata": {
    "colab": {
      "provenance": []
    },
    "kernelspec": {
      "display_name": "Python 3",
      "language": "python",
      "name": "python3"
    },
    "language_info": {
      "codemirror_mode": {
        "name": "ipython",
        "version": 3
      },
      "file_extension": ".py",
      "mimetype": "text/x-python",
      "name": "python",
      "nbconvert_exporter": "python",
      "pygments_lexer": "ipython3",
      "version": "3.8.3"
    }
  },
  "nbformat": 4,
  "nbformat_minor": 0
}